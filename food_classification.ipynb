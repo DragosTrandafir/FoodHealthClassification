{
 "cells": [
  {
   "cell_type": "code",
   "execution_count": 1,
   "id": "ac7cc4c0-2e2f-40b0-bdd9-9caefa70fb1e",
   "metadata": {},
   "outputs": [],
   "source": [
    "import numpy as np\n",
    "import matplotlib.pyplot as plt\n",
    "import math\n",
    "import pandas as pd"
   ]
  },
  {
   "cell_type": "code",
   "execution_count": 2,
   "id": "5393217e-88ad-4a26-94ca-b551072ee36d",
   "metadata": {},
   "outputs": [],
   "source": [
    "def compute_cost_logistic_regression(X, y, w, b, lambda_l = 1):\n",
    "    '''\n",
    "    Description: computes the cost for regularized logistic regression\n",
    "    ( the term with the numerator lambda helps to minimize the size of the parameters \n",
    "    (w1, w2,...),\n",
    "    but I use the version where b is not regularized )\n",
    "    Preconditions: X - m x n matrix which contains our data \n",
    "                    y - m size array - target values\n",
    "                    w - n size array - model parameters\n",
    "                    b - real number - free term parameter\n",
    "                    lambda_l - real number - quantifier for regularization\n",
    "    Postconditons: total_cost - real number - the cost of our calculations, which will help\n",
    "    later to build a better model\n",
    "    '''\n",
    "    m = X.shape[0] # number of input data examples\n",
    "    n = X.shape[1] # number of features of each example\n",
    "\n",
    "    cost = 0.0\n",
    "    for i in range(m):\n",
    "        z = np.dot(X[i],w)+b\n",
    "        f_wb = sigmoid(z)             # the formula of logistic regression model\n",
    "        cost += -y[i] * np.log(f_wb) - (1-y[i]) * np.log(1 - f_wb)\n",
    "    cost /= m\n",
    "\n",
    "    # the regularization part\n",
    "    reg_cost = 0\n",
    "    for j in range(n):\n",
    "        reg_cost += w[j]**2\n",
    "    reg_cost *= lambda_l/(2*m)\n",
    "\n",
    "    # adding the 2 costs\n",
    "    total_cost = cost + reg_cost\n",
    "    return total_cost"
   ]
  },
  {
   "cell_type": "code",
   "execution_count": null,
   "id": "41575f66-6630-42cb-85a4-b0752bd1b86d",
   "metadata": {},
   "outputs": [],
   "source": []
  }
 ],
 "metadata": {
  "kernelspec": {
   "display_name": "Python 3 (ipykernel)",
   "language": "python",
   "name": "python3"
  },
  "language_info": {
   "codemirror_mode": {
    "name": "ipython",
    "version": 3
   },
   "file_extension": ".py",
   "mimetype": "text/x-python",
   "name": "python",
   "nbconvert_exporter": "python",
   "pygments_lexer": "ipython3",
   "version": "3.12.0"
  }
 },
 "nbformat": 4,
 "nbformat_minor": 5
}
